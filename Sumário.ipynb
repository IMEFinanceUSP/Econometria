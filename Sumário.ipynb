{
 "cells": [
  {
   "cell_type": "markdown",
   "metadata": {},
   "source": [
    "<h1>Capacitação em econometria</h1>\n",
    "Bem vindo, o objetivo desse notebook é fornecer as noções básicas de estatística e regressão.\n",
    "Por agora, o objetivo é colocar no python e testar o que aprendemos"
   ]
  },
  {
   "cell_type": "markdown",
   "metadata": {
    "vscode": {
     "languageId": "html"
    }
   },
   "source": [
    "\n",
    "<h1>Sumário de conteúdos</h1>\n",
    "<ol>\n",
    "    <li>Capítulo 0: review\n",
    "        <ul>\n",
    "            <li>Estimadores, viés e eficiência</li>\n",
    "            <li>Erro quadrático médio</li>\n",
    "            <li>Teorema do limite central</li>\n",
    "        </ul>\n",
    "    </li>\n",
    "    <li>Capítulo 1: Covariância, variância e correlação\n",
    "        <ul>\n",
    "            <li>Covariância e matriz de covariância no pandas</li>\n",
    "            <li>Variância</li>\n",
    "            <li>Correlação</li>\n",
    "        </ul>\n",
    "    </li>\n",
    "    <li>Capítulo 2: Regressão simples\n",
    "        <ul>\n",
    "            <li>Modelo linear</li>\n",
    "            <li> Disturbance term: o erro</li> \n",
    "            <li>Mínimos quadrados</li>\n",
    "            <li>Coeficiente de determinação  </li>  \n",
    "        </ul>\n",
    "    </li>\n",
    "    <li>Capítulo 3: Propriedades da regressão e teste de hipóteses\n",
    "        <ul>\n",
    "            <li>Experimento Monte Carlo</li>\n",
    "            <li>Condições de Gauss-Markov e normalidade(sugestão: citar exemplo de quando essas condições não são satisfeitas, https://www.quora.com/What-is-the-importance-of-the-use-of-the-disturbance-term-in-econometrics</li>\n",
    "            <li>Estimador da variância do disturbance term, standand error</li>\n",
    "            <li>Teste de hipóteses, erros tipo I e II </li>\n",
    "            <li>p-valor, intervalo de confiança, teste de cauda (sugestão: escrever como obter as probabilidades da t em python)</li>\n",
    "            <li>F Test of Goodness of Fit </li>\n",
    "        </ul>\n",
    "    </li>\n",
    "\n",
    "</ol>\n"
   ]
  }
 ],
 "metadata": {
  "kernelspec": {
   "display_name": "Python 3 (ipykernel)",
   "language": "python",
   "name": "python3"
  },
  "language_info": {
   "codemirror_mode": {
    "name": "ipython",
    "version": 3
   },
   "file_extension": ".py",
   "mimetype": "text/x-python",
   "name": "python",
   "nbconvert_exporter": "python",
   "pygments_lexer": "ipython3",
   "version": "3.10.7"
  },
  "vscode": {
   "interpreter": {
    "hash": "609973a2d1f31d45d1c4d9f5c0b4ecf9cb33fe1a555b03392724c0cdbb5c54ba"
   }
  }
 },
 "nbformat": 4,
 "nbformat_minor": 2
}
