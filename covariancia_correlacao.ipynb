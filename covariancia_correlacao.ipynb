{
 "cells": [
  {
   "cell_type": "markdown",
   "id": "3fb95451",
   "metadata": {},
   "source": [
    "Covariancia "
   ]
  },
  {
   "cell_type": "markdown",
   "id": "f9ab87e4",
   "metadata": {},
   "source": [
    "Em teoria da probabilidade e na estatística, a covariância, ou variância conjunta,é uma medida do grau de \n",
    "interdependência (ou inter-relação) numérica entre duas variáveis aleatórias. Assim, variáveis independentes \n",
    "têm covariância zero.covariância é por vezes chamada de medida de dependência linear entre as duas variáveis \n",
    "aleatórias."
   ]
  },
  {
   "cell_type": "markdown",
   "id": "22427363",
   "metadata": {},
   "source": [
    "Correlação"
   ]
  },
  {
   "cell_type": "markdown",
   "id": "03d05212",
   "metadata": {},
   "source": [
    "A covariância é muitas vezes confundida com a correlação , uma vez que os dois casos indicam a maneira que duas \n",
    "variáveis se relacionam entre si.\n",
    "No entanto, os valores da correlação são padronizada entre -1 a 1 , enqaunto covariância pode variar de menos \n",
    "infinito a mais infinito\n"
   ]
  },
  {
   "cell_type": "markdown",
   "id": "f2045810",
   "metadata": {},
   "source": [
    "Para que serve a covariância e correlação?\n",
    "A diversificação de ativos .\n",
    "Por exemplo: se um investidor possui ativos apenas do setor petrolífero, memso que sejam diversificados em várias empresas, se o setor entrar em crise, as perdas podem ser grandes. Portanto , utilizando covariância e correlacão pode evitar investir em ativios que se valorizem ao mesmo tempo ou vice versas."
   ]
  },
  {
   "cell_type": "markdown",
   "id": "6529cd8e",
   "metadata": {},
   "source": [
    "Então, o coeficiente de correlação de Pearson varia entre -1 e 1 , quando o coeficiente entre duas variáveis X e Y está mais perto de 1, significa que há correlação positiva , então , por exemplo , se X aumenta , é provável que Y também aumente . Simultaneamnete , se X diminui é provável que Y também dimuinui. Se o coeficiente está mais perto de -1 , as variáveis são correlacionáveis negativamente. A ideia é: se uma sobe , a outra diminui e vice-versa. Por fim , se o coeficiente é0 , não exuste uma dependência linear . Isso não exclui outras dependência ou relação."
   ]
  },
  {
   "cell_type": "markdown",
   "id": "d615ec92",
   "metadata": {},
   "source": [
    "Agora vamos ver como isso funciona no python"
   ]
  },
  {
   "cell_type": "code",
   "execution_count": 49,
   "id": "e7be785d",
   "metadata": {},
   "outputs": [],
   "source": [
    "import pandas as pd\n",
    "import numpy as np\n",
    "\n",
    "import datetime as dt\n",
    "import matplotlib.pyplot as plt\n",
    "import pandas_datareader as pdr"
   ]
  },
  {
   "cell_type": "code",
   "execution_count": 50,
   "id": "0bab780c",
   "metadata": {},
   "outputs": [],
   "source": [
    "comecar=datetime(2020,1,1)\n",
    "carteira=['FB','TWTR','GOOGL']"
   ]
  },
  {
   "cell_type": "code",
   "execution_count": 51,
   "id": "6f3afc89",
   "metadata": {},
   "outputs": [],
   "source": [
    "data=pdr.get_data_yahoo(carteira,comecar)\n",
    "data=data['Adj Close']\n",
    "log_return=np.log(data/data.shift())"
   ]
  },
  {
   "cell_type": "code",
   "execution_count": 52,
   "id": "ea4e04cb",
   "metadata": {
    "scrolled": true
   },
   "outputs": [
    {
     "data": {
      "text/html": [
       "<div>\n",
       "<style scoped>\n",
       "    .dataframe tbody tr th:only-of-type {\n",
       "        vertical-align: middle;\n",
       "    }\n",
       "\n",
       "    .dataframe tbody tr th {\n",
       "        vertical-align: top;\n",
       "    }\n",
       "\n",
       "    .dataframe thead th {\n",
       "        text-align: right;\n",
       "    }\n",
       "</style>\n",
       "<table border=\"1\" class=\"dataframe\">\n",
       "  <thead>\n",
       "    <tr style=\"text-align: right;\">\n",
       "      <th>Symbols</th>\n",
       "      <th>FB</th>\n",
       "      <th>TWTR</th>\n",
       "      <th>GOOGL</th>\n",
       "    </tr>\n",
       "    <tr>\n",
       "      <th>Symbols</th>\n",
       "      <th></th>\n",
       "      <th></th>\n",
       "      <th></th>\n",
       "    </tr>\n",
       "  </thead>\n",
       "  <tbody>\n",
       "    <tr>\n",
       "      <th>FB</th>\n",
       "      <td>1.000000</td>\n",
       "      <td>0.310645</td>\n",
       "      <td>0.647910</td>\n",
       "    </tr>\n",
       "    <tr>\n",
       "      <th>TWTR</th>\n",
       "      <td>0.310645</td>\n",
       "      <td>1.000000</td>\n",
       "      <td>0.441255</td>\n",
       "    </tr>\n",
       "    <tr>\n",
       "      <th>GOOGL</th>\n",
       "      <td>0.647910</td>\n",
       "      <td>0.441255</td>\n",
       "      <td>1.000000</td>\n",
       "    </tr>\n",
       "  </tbody>\n",
       "</table>\n",
       "</div>"
      ],
      "text/plain": [
       "Symbols        FB      TWTR     GOOGL\n",
       "Symbols                              \n",
       "FB       1.000000  0.310645  0.647910\n",
       "TWTR     0.310645  1.000000  0.441255\n",
       "GOOGL    0.647910  0.441255  1.000000"
      ]
     },
     "execution_count": 52,
     "metadata": {},
     "output_type": "execute_result"
    }
   ],
   "source": [
    "log_return.corr()"
   ]
  },
  {
   "cell_type": "code",
   "execution_count": null,
   "id": "5fb0db9e",
   "metadata": {},
   "outputs": [],
   "source": []
  }
 ],
 "metadata": {
  "kernelspec": {
   "display_name": "Python 3 (ipykernel)",
   "language": "python",
   "name": "python3"
  },
  "language_info": {
   "codemirror_mode": {
    "name": "ipython",
    "version": 3
   },
   "file_extension": ".py",
   "mimetype": "text/x-python",
   "name": "python",
   "nbconvert_exporter": "python",
   "pygments_lexer": "ipython3",
   "version": "3.9.7"
  }
 },
 "nbformat": 4,
 "nbformat_minor": 5
}
