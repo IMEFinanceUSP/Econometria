{
 "cells": [
  {
   "cell_type": "markdown",
   "metadata": {},
   "source": [
    "Primeiramente, construíremos uma funçao que calcula a regressao do zero, apenas com pandas e matplotlib\n"
   ]
  },
  {
   "cell_type": "code",
   "execution_count": 4,
   "metadata": {},
   "outputs": [],
   "source": [
    "import pandas as pd\n",
    "import matplotlib.pyplot as plt\n",
    "from scipy import stats\n",
    "\n",
    "\n",
    "\n"
   ]
  },
  {
   "cell_type": "code",
   "execution_count": 5,
   "metadata": {},
   "outputs": [],
   "source": [
    "def regressao(df):\n",
    "    \"\"\" dataframe -> float, float, dataframe\n",
    "    Recebe um dataframe com duas colunas, X e Y, e devolve os coeficientes da regressão linear para Y=a*X + b e o dataframe com o modelo aplicado\n",
    "    retorna a, b, modelo\n",
    "    \"\"\"\n",
    "    slope=df.cov(ddof=0)[\"X\"][1]/df.var(0, ddof=0)[0]\n",
    "    intercept=df.mean()[1] -  slope*df.mean()[0]\n",
    "    model= pd.DataFrame()\n",
    "    model[\"X\"]= df.X \n",
    "    model[\"Y\"]= df.X*slope + intercept\n",
    "    e= df.Y - model.Y\n",
    "    r = 1 - (e.var(ddof=0)/df.Y.var(ddof=0))\n",
    "\n",
    "\n",
    "    return slope,intercept, model, r\n",
    "\n",
    "def fazgrafico(df, modelo):\n",
    "    \"\"\"recebe dataframe original e modelo e faz os gráficos\"\"\"\n",
    "    plt.scatter(df.X, df.Y)\n",
    "    plt.plot(modelo.X, modelo.Y)\n",
    "    \n",
    "    "
   ]
  },
  {
   "cell_type": "markdown",
   "metadata": {},
   "source": [
    "Exemplo:"
   ]
  },
  {
   "cell_type": "code",
   "execution_count": 6,
   "metadata": {},
   "outputs": [
    {
     "data": {
      "image/png": "[encoded data removed]",
      "text/plain": [
       "<Figure size 432x288 with 1 Axes>"
      ]
     },
     "metadata": {
      "needs_background": "light"
     },
     "output_type": "display_data"
    },
    {
     "name": "stdout",
     "output_type": "stream",
     "text": [
      "-0.758591524376155 0.5754611008553383\n"
     ]
    }
   ],
   "source": [
    "#exemplo 1\n",
    "df=pd.DataFrame({'X': [5, 4], \n",
    "              'Y': [8, 2]},)\n",
    "\n",
    "\n",
    "\n",
    "a, b, modelo, r= regressao(df)\n",
    "#fazgrafico(df,modelo)\n",
    "\n",
    "\n",
    "\n",
    "#exemplo 2\n",
    "\n",
    "df2=pd.DataFrame({\"X\" : [5,7,8,7,2,17,2,9,4,11,12,9,6],\n",
    "\"Y\" : [99,86,87,88,111,86,103,87,94,78,77,85,86]})\n",
    "a,b,modelo2, r2=regressao(df2)\n",
    "fazgrafico(df2,modelo2)\n",
    "\n",
    "#utilizando a função de regressão do scipy\n",
    "\n",
    "slope, intercept, r, p, std_err = stats.linregress(df2.X, df2.Y)\n",
    "def makemodel(x):\n",
    "  return slope * x + intercept\n",
    "\n",
    "\n",
    "mymodel = list(map(makemodel, df2.X))\n",
    "\n",
    "plt.scatter(df2.X, df2.Y)\n",
    "plt.plot(df2.X, mymodel)\n",
    "plt.show()\n",
    "print(r,r2)\n"
   ]
  },
  {
   "cell_type": "code",
   "execution_count": null,
   "metadata": {},
   "outputs": [],
   "source": []
  }
 ],
 "metadata": {
  "kernelspec": {
   "display_name": "Python 3.10.7 64-bit",
   "language": "python",
   "name": "python3"
  },
  "language_info": {
   "codemirror_mode": {
    "name": "ipython",
    "version": 3
   },
   "file_extension": ".py",
   "mimetype": "text/x-python",
   "name": "python",
   "nbconvert_exporter": "python",
   "pygments_lexer": "ipython3",
   "version": "3.10.7"
  },
  "orig_nbformat": 4,
  "vscode": {
   "interpreter": {
    "hash": "609973a2d1f31d45d1c4d9f5c0b4ecf9cb33fe1a555b03392724c0cdbb5c54ba"
   }
  }
 },
 "nbformat": 4,
 "nbformat_minor": 2
}
